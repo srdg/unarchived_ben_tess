{
  "nbformat": 4,
  "nbformat_minor": 0,
  "metadata": {
    "colab": {
      "name": "Bengali_Typeset_With_Tesseract.ipynb",
      "provenance": [],
      "collapsed_sections": [],
      "authorship_tag": "ABX9TyO+poKOyUJpNmzXXnnaPHEh",
      "include_colab_link": true
    },
    "kernelspec": {
      "display_name": "Python 3",
      "name": "python3"
    }
  },
  "cells": [
    {
      "cell_type": "markdown",
      "metadata": {
        "id": "view-in-github",
        "colab_type": "text"
      },
      "source": [
        "<a href=\"https://colab.research.google.com/github/srdg/unarchived_ben_tess/blob/main/src/Bengali_Typeset_With_Tesseract.ipynb\" target=\"_parent\"><img src=\"https://colab.research.google.com/assets/colab-badge.svg\" alt=\"Open In Colab\"/></a>"
      ]
    },
    {
      "cell_type": "markdown",
      "metadata": {
        "id": "YKyuXeB67Noo"
      },
      "source": [
        "# E2E Training Pipeline\r\n",
        "Installs dependencies, language packs;\r\n",
        "Gets training tools and training data \r\n",
        "and runs training to make `.traineddata` model. Logs final result after training is completed."
      ]
    },
    {
      "cell_type": "code",
      "metadata": {
        "colab": {
          "base_uri": "https://localhost:8080/"
        },
        "id": "_2DWgTTrB5Uv",
        "outputId": "b83318eb-c00f-468f-ebb8-279215e885da"
      },
      "source": [
        "!echo \"*******************Install dependencies***************************\"\r\n",
        "!sudo apt-get install tesseract-ocr bc libtesseract-dev \r\n",
        "!echo \"********************Verify installation**************************\"\r\n",
        "!which tesseract\r\n",
        "!echo \"*******************Install language***************************\"\r\n",
        "!sudo apt-get install tesseract-ocr-ben\r\n",
        "!echo \"*********************Verify language*************************\"\r\n",
        "!ls /usr/share/tesseract-ocr/4.00/tessdata | grep traineddata\r\n",
        "!echo \"******************Download training data********************\"\r\n",
        "!rm -rf ./*\r\n",
        "!mkdir -p ./data/ben-ground-truth\r\n",
        "!wget https://github.com/srdg/unarchived_ben_tess/\\\r\n",
        "releases/download/v0.0.3-alpha/data.zip -q --show-progress \r\n",
        "!unzip -q ./data.zip -d ./data/ben-ground-truth && rm -rf ./data.zip\r\n",
        "!echo \"******************Download training tools********************\"\r\n",
        "!wget https://github.com/tesseract-ocr/tesstrain/\\\r\n",
        "archive/master.zip -q --show-progress && unzip -q ./master.zip \r\n",
        "!rm -rf ./master.zip ./sample_data\r\n",
        "!echo \"***********************Move training  data***********************\"\r\n",
        "!mv ./data ./tesstrain-master/\r\n",
        "!echo \"======================= READY TO TRAIN =========================\"\r\n",
        "%cd ./tesstrain-master/\r\n",
        "!echo \"======================= TRAINING MODEL =========================\"\r\n",
        "!make training MODEL_NAME=ben RATIO_TRAIN=0.80 \\\r\n",
        "MAX_ITERATIONS=99999999&>./data/ben.training.log\r\n",
        "%cd ..\r\n",
        "!echo \"======================= TRAINING DONE! =========================\"\r\n",
        "!tail -10 ./data/ben.training.log"
      ],
      "execution_count": null,
      "outputs": [
        {
          "output_type": "stream",
          "text": [
            "*******************Install dependencies***************************\n",
            "Reading package lists... Done\n",
            "Building dependency tree       \n",
            "Reading state information... Done\n",
            "The following additional packages will be installed:\n",
            "  libleptonica-dev tesseract-ocr-eng tesseract-ocr-osd\n",
            "The following NEW packages will be installed:\n",
            "  bc libleptonica-dev libtesseract-dev tesseract-ocr tesseract-ocr-eng\n",
            "  tesseract-ocr-osd\n",
            "0 upgraded, 6 newly installed, 0 to remove and 14 not upgraded.\n",
            "Need to get 7,636 kB of archives.\n",
            "After this operation, 29.8 MB of additional disk space will be used.\n",
            "Get:1 http://archive.ubuntu.com/ubuntu bionic/main amd64 bc amd64 1.07.1-2 [86.2 kB]\n",
            "Get:2 http://archive.ubuntu.com/ubuntu bionic/universe amd64 libleptonica-dev amd64 1.75.3-3 [1,308 kB]\n",
            "Get:3 http://archive.ubuntu.com/ubuntu bionic/universe amd64 libtesseract-dev amd64 4.00~git2288-10f4998a-2 [1,447 kB]\n",
            "Get:4 http://archive.ubuntu.com/ubuntu bionic/universe amd64 tesseract-ocr-eng all 4.00~git24-0e00fe6-1.2 [1,588 kB]\n",
            "Get:5 http://archive.ubuntu.com/ubuntu bionic/universe amd64 tesseract-ocr-osd all 4.00~git24-0e00fe6-1.2 [2,989 kB]\n",
            "Get:6 http://archive.ubuntu.com/ubuntu bionic/universe amd64 tesseract-ocr amd64 4.00~git2288-10f4998a-2 [218 kB]\n",
            "Fetched 7,636 kB in 1s (6,238 kB/s)\n",
            "debconf: unable to initialize frontend: Dialog\n",
            "debconf: (No usable dialog-like program is installed, so the dialog based frontend cannot be used. at /usr/share/perl5/Debconf/FrontEnd/Dialog.pm line 76, <> line 6.)\n",
            "debconf: falling back to frontend: Readline\n",
            "debconf: unable to initialize frontend: Readline\n",
            "debconf: (This frontend requires a controlling tty.)\n",
            "debconf: falling back to frontend: Teletype\n",
            "dpkg-preconfigure: unable to re-open stdin: \n",
            "Selecting previously unselected package bc.\n",
            "(Reading database ... 144865 files and directories currently installed.)\n",
            "Preparing to unpack .../0-bc_1.07.1-2_amd64.deb ...\n",
            "Unpacking bc (1.07.1-2) ...\n",
            "Selecting previously unselected package libleptonica-dev.\n",
            "Preparing to unpack .../1-libleptonica-dev_1.75.3-3_amd64.deb ...\n",
            "Unpacking libleptonica-dev (1.75.3-3) ...\n",
            "Selecting previously unselected package libtesseract-dev.\n",
            "Preparing to unpack .../2-libtesseract-dev_4.00~git2288-10f4998a-2_amd64.deb ...\n",
            "Unpacking libtesseract-dev (4.00~git2288-10f4998a-2) ...\n",
            "Selecting previously unselected package tesseract-ocr-eng.\n",
            "Preparing to unpack .../3-tesseract-ocr-eng_4.00~git24-0e00fe6-1.2_all.deb ...\n",
            "Unpacking tesseract-ocr-eng (4.00~git24-0e00fe6-1.2) ...\n",
            "Selecting previously unselected package tesseract-ocr-osd.\n",
            "Preparing to unpack .../4-tesseract-ocr-osd_4.00~git24-0e00fe6-1.2_all.deb ...\n",
            "Unpacking tesseract-ocr-osd (4.00~git24-0e00fe6-1.2) ...\n",
            "Selecting previously unselected package tesseract-ocr.\n",
            "Preparing to unpack .../5-tesseract-ocr_4.00~git2288-10f4998a-2_amd64.deb ...\n",
            "Unpacking tesseract-ocr (4.00~git2288-10f4998a-2) ...\n",
            "Setting up libleptonica-dev (1.75.3-3) ...\n",
            "Setting up tesseract-ocr-osd (4.00~git24-0e00fe6-1.2) ...\n",
            "Setting up tesseract-ocr-eng (4.00~git24-0e00fe6-1.2) ...\n",
            "Setting up libtesseract-dev (4.00~git2288-10f4998a-2) ...\n",
            "Setting up tesseract-ocr (4.00~git2288-10f4998a-2) ...\n",
            "Setting up bc (1.07.1-2) ...\n",
            "Processing triggers for man-db (2.8.3-2ubuntu0.1) ...\n",
            "********************Verify installation**************************\n",
            "/usr/bin/tesseract\n",
            "*******************Install language***************************\n",
            "Reading package lists... Done\n",
            "Building dependency tree       \n",
            "Reading state information... Done\n",
            "The following NEW packages will be installed:\n",
            "  tesseract-ocr-ben\n",
            "0 upgraded, 1 newly installed, 0 to remove and 14 not upgraded.\n",
            "Need to get 515 kB of archives.\n",
            "After this operation, 870 kB of additional disk space will be used.\n",
            "Get:1 http://archive.ubuntu.com/ubuntu bionic/universe amd64 tesseract-ocr-ben all 4.00~git24-0e00fe6-1.2 [515 kB]\n",
            "Fetched 515 kB in 1s (789 kB/s)\n",
            "debconf: unable to initialize frontend: Dialog\n",
            "debconf: (No usable dialog-like program is installed, so the dialog based frontend cannot be used. at /usr/share/perl5/Debconf/FrontEnd/Dialog.pm line 76, <> line 1.)\n",
            "debconf: falling back to frontend: Readline\n",
            "debconf: unable to initialize frontend: Readline\n",
            "debconf: (This frontend requires a controlling tty.)\n",
            "debconf: falling back to frontend: Teletype\n",
            "dpkg-preconfigure: unable to re-open stdin: \n",
            "Selecting previously unselected package tesseract-ocr-ben.\n",
            "(Reading database ... 145040 files and directories currently installed.)\n",
            "Preparing to unpack .../tesseract-ocr-ben_4.00~git24-0e00fe6-1.2_all.deb ...\n",
            "Unpacking tesseract-ocr-ben (4.00~git24-0e00fe6-1.2) ...\n",
            "Setting up tesseract-ocr-ben (4.00~git24-0e00fe6-1.2) ...\n",
            "*********************Verify language*************************\n",
            "ben.traineddata\n",
            "eng.traineddata\n",
            "osd.traineddata\n",
            "******************Download training data********************\n",
            "data.zip            100%[===================>]   5.51M  --.-KB/s    in 0.1s    \n",
            "******************Download training tools********************\n",
            "master.zip              [  <=>               ]   5.19M  14.9MB/s    in 0.3s    \n",
            "***********************Move training  data***********************\n",
            "======================= READY TO TRAIN =========================\n",
            "/content/tesstrain-master\n",
            "======================= TRAINING MODEL =========================\n"
          ],
          "name": "stdout"
        }
      ]
    },
    {
      "cell_type": "markdown",
      "metadata": {
        "id": "wQZ7MrbY7MEv"
      },
      "source": [
        "# Data Cleaning Pipeline\r\n",
        "Gets data (needs to be uploaded first) and performs hocr ops on it to split images into line-level, converts into .tif format and zips them for download.  \r\n",
        "#### Preconditions\r\n",
        "+ Images must be in .PNG format\r\n",
        "+ Images must be in a zipped archive without any hierarchy\r\n"
      ]
    },
    {
      "cell_type": "code",
      "metadata": {
        "id": "JAnl2iNwxMqw"
      },
      "source": [
        "!wget https://github.com/ocropus/hocr-tools/archive/master.zip \\\r\n",
        "-q --show-progress && unzip master.zip -d . \r\n",
        "!wget https://raw.githubusercontent.com/srdg/\\\r\n",
        "unarchived_ben_tess/main/src/line_hocr.sh && chmod +xxx *.sh\r\n",
        "!apt install tesseract-ocr-ben\r\n",
        "!bash line_hocr.sh\r\n",
        "%cd data\r\n",
        "!rm -rf *.exp0.txt\r\n",
        "!mkdir -p data\r\n",
        "!mv *.exp0.tif ./data\r\n",
        "!zip data.zip ./data/* -q"
      ],
      "execution_count": null,
      "outputs": []
    }
  ]
}