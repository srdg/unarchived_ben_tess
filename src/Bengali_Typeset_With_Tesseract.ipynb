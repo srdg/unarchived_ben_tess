{
  "nbformat": 4,
  "nbformat_minor": 0,
  "metadata": {
    "accelerator": "GPU",
    "colab": {
      "name": "Bengali_Typeset_With_Tesseract.ipynb",
      "provenance": [],
      "collapsed_sections": [],
      "authorship_tag": "ABX9TyNyFjOa/vcONLkGC18dFWxJ",
      "include_colab_link": true
    },
    "kernelspec": {
      "display_name": "Python 3",
      "name": "python3"
    }
  },
  "cells": [
    {
      "cell_type": "markdown",
      "metadata": {
        "id": "view-in-github",
        "colab_type": "text"
      },
      "source": [
        "<a href=\"https://colab.research.google.com/github/srdg/unarchived_ben_tess/blob/main/src/Bengali_Typeset_With_Tesseract.ipynb\" target=\"_parent\"><img src=\"https://colab.research.google.com/assets/colab-badge.svg\" alt=\"Open In Colab\"/></a>"
      ]
    },
    {
      "cell_type": "markdown",
      "metadata": {
        "id": "YKyuXeB67Noo"
      },
      "source": [
        "# E2E Training Pipeline\r\n",
        "Installs dependencies, language packs;\r\n",
        "Gets training tools and training data \r\n",
        "and runs training to make `.traineddata` model. Logs final result after training is completed."
      ]
    },
    {
      "cell_type": "code",
      "metadata": {
        "id": "_2DWgTTrB5Uv"
      },
      "source": [
        "!echo \"*******************Install dependencies***************************\"\r\n",
        "!sudo apt-get install tesseract-ocr bc libtesseract-dev \r\n",
        "!echo \"********************Verify installation**************************\"\r\n",
        "!which tesseract\r\n",
        "!echo \"*******************Install language***************************\"\r\n",
        "!sudo apt-get install tesseract-ocr-ben\r\n",
        "!echo \"*********************Verify language*************************\"\r\n",
        "!ls /usr/share/tesseract-ocr/4.00/tessdata | grep traineddata\r\n",
        "!echo \"******************Download training data********************\"\r\n",
        "!mkdir -p ./data/ben-ground-truth\r\n",
        "!wget https://github.com/srdg/unarchived_ben_tess/\\\r\n",
        "releases/download/v0.0.3-alpha/data.zip -q --show-progress \r\n",
        "!unzip -q ./data.zip -d ./data/ben-ground-truth && rm -rf ./data.zip\r\n",
        "!echo \"******************Download training tools********************\"\r\n",
        "!wget https://github.com/tesseract-ocr/tesstrain/\\\r\n",
        "archive/master.zip -q --show-progress && unzip -q ./master.zip \r\n",
        "!rm -rf ./master.zip ./sample_data\r\n",
        "!echo \"***********************Move training  data***********************\"\r\n",
        "!mv ./data ./tesstrain-master/\r\n",
        "!echo \"======================= READY TO TRAIN =========================\"\r\n",
        "%cd ./tesstrain-master/\r\n",
        "!echo \"======================= TRAINING MODEL =========================\"\r\n",
        "nohup make training MODEL_NAME=ben RATIO_TRAIN=0.80 LANG_TYPE=Indic  \\\r\n",
        "DEBUG_INTERVAL=-1 TESSDATA=/usr/share/tesseract-ocr/4.00/tessdata \\\r\n",
        "MAX_ITERATIONS=99999999 START_MODEL=ben&>data/ben.training.log\r\n",
        "!echo \"======================= TRAINING DONE! =========================\"\r\n",
        "from IPython.display import Audio\r\n",
        "Audio(\"../alarm.mp3\",autoplay=True)\r\n",
        "!tail -10 ./data/ben.training.log"
      ],
      "execution_count": null,
      "outputs": []
    },
    {
      "cell_type": "markdown",
      "metadata": {
        "id": "wQZ7MrbY7MEv"
      },
      "source": [
        "# Data Cleaning Pipeline\r\n",
        "Gets data (needs to be uploaded first) and performs hocr ops on it to split images into line-level, converts into .tif format and zips them for download."
      ]
    },
    {
      "cell_type": "code",
      "metadata": {
        "id": "JAnl2iNwxMqw"
      },
      "source": [
        "!wget https://github.com/ocropus/hocr-tools/archive/master.zip \\\r\n",
        "-q --show-progress && unzip master.zip -d . \r\n",
        "!wget https://raw.githubusercontent.com/srdg/\\\r\n",
        "unarchived_ben_tess/main/src/line_hocr.sh && chmod +xxx *.sh\r\n",
        "!apt install tesseract-ocr-ben\r\n",
        "!bash line_hocr.sh\r\n",
        "%cd data\r\n",
        "!rm -rf *.exp0.txt\r\n",
        "!mkdir -p data\r\n",
        "!mv *.exp0.tif ./data\r\n",
        "!zip data.zip ./data/* -q"
      ],
      "execution_count": null,
      "outputs": []
    }
  ]
}