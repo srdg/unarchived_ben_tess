{
  "nbformat": 4,
  "nbformat_minor": 0,
  "metadata": {
    "colab": {
      "name": "Bengali_Typeset_With_Tesseract.ipynb",
      "provenance": [],
      "authorship_tag": "ABX9TyM6TY6NMyAtJEdDQkHImHa1",
      "include_colab_link": true
    },
    "kernelspec": {
      "name": "python3",
      "display_name": "Python 3"
    }
  },
  "cells": [
    {
      "cell_type": "markdown",
      "metadata": {
        "id": "view-in-github",
        "colab_type": "text"
      },
      "source": [
        "<a href=\"https://colab.research.google.com/github/srdg/unarchived_ben_tess/blob/main/Bengali_Typeset_With_Tesseract.ipynb\" target=\"_parent\"><img src=\"https://colab.research.google.com/assets/colab-badge.svg\" alt=\"Open In Colab\"/></a>"
      ]
    },
    {
      "cell_type": "markdown",
      "metadata": {
        "id": "js1W-SQsdAC0"
      },
      "source": [
        "# Installation\r\n",
        "Mount tesseract and set up the environment by installing  necessary libraries and packages"
      ]
    },
    {
      "cell_type": "code",
      "metadata": {
        "colab": {
          "base_uri": "https://localhost:8080/"
        },
        "id": "N1IgN1QJarh3",
        "outputId": "4e556d35-76d6-4e25-a0c4-3f6710145416"
      },
      "source": [
        "!sudo apt install -q tesseract-ocr"
      ],
      "execution_count": 18,
      "outputs": [
        {
          "output_type": "stream",
          "text": [
            "Reading package lists...\n",
            "Building dependency tree...\n",
            "Reading state information...\n",
            "tesseract-ocr is already the newest version (4.00~git2288-10f4998a-2).\n",
            "0 upgraded, 0 newly installed, 0 to remove and 14 not upgraded.\n"
          ],
          "name": "stdout"
        }
      ]
    },
    {
      "cell_type": "code",
      "metadata": {
        "colab": {
          "base_uri": "https://localhost:8080/"
        },
        "id": "lVd9--kjbLxH",
        "outputId": "67a248f9-a0ca-4096-97f4-df34da387afa"
      },
      "source": [
        "!sudo apt install libtesseract-dev"
      ],
      "execution_count": 19,
      "outputs": [
        {
          "output_type": "stream",
          "text": [
            "Reading package lists... Done\n",
            "Building dependency tree       \n",
            "Reading state information... Done\n",
            "libtesseract-dev is already the newest version (4.00~git2288-10f4998a-2).\n",
            "0 upgraded, 0 newly installed, 0 to remove and 14 not upgraded.\n"
          ],
          "name": "stdout"
        }
      ]
    },
    {
      "cell_type": "code",
      "metadata": {
        "colab": {
          "base_uri": "https://localhost:8080/"
        },
        "id": "-YTHwpyjbupq",
        "outputId": "84e860d5-1065-463b-9461-b4f9fdf5ac1c"
      },
      "source": [
        "!which tesseract"
      ],
      "execution_count": 20,
      "outputs": [
        {
          "output_type": "stream",
          "text": [
            "/usr/bin/tesseract\n"
          ],
          "name": "stdout"
        }
      ]
    },
    {
      "cell_type": "code",
      "metadata": {
        "colab": {
          "base_uri": "https://localhost:8080/"
        },
        "id": "WQpVXXQUcUY9",
        "outputId": "b7287016-f390-47c3-88b6-4da57484e2e3"
      },
      "source": [
        "!sudo apt-get install tesseract-ocr-ben"
      ],
      "execution_count": 21,
      "outputs": [
        {
          "output_type": "stream",
          "text": [
            "Reading package lists... Done\n",
            "Building dependency tree       \n",
            "Reading state information... Done\n",
            "tesseract-ocr-ben is already the newest version (4.00~git24-0e00fe6-1.2).\n",
            "0 upgraded, 0 newly installed, 0 to remove and 14 not upgraded.\n"
          ],
          "name": "stdout"
        }
      ]
    },
    {
      "cell_type": "code",
      "metadata": {
        "colab": {
          "base_uri": "https://localhost:8080/"
        },
        "id": "vcm6dmejcjGQ",
        "outputId": "c025cdf4-8b7d-4c1f-efb5-710b3cb28416"
      },
      "source": [
        "!ls /usr/share/tesseract-ocr/4.00/tessdata"
      ],
      "execution_count": 22,
      "outputs": [
        {
          "output_type": "stream",
          "text": [
            "ben.traineddata  eng.traineddata  pdf.ttf\n",
            "configs\t\t osd.traineddata  tessconfigs\n"
          ],
          "name": "stdout"
        }
      ]
    },
    {
      "cell_type": "markdown",
      "metadata": {
        "id": "po1msmOviAOh"
      },
      "source": [
        "# Downloading data"
      ]
    },
    {
      "cell_type": "code",
      "metadata": {
        "id": "KZl6Li3kh-ce"
      },
      "source": [
        "!rm -rf ./sample_data # remove default sample data\r\n",
        "!rm -rf 010_LetterPress-Data line_hocr.sh # delete old versions of data\r\n",
        "!wget -q https://api.github.com/repos/srdg/unarchived_ben_tess/zipball  \r\n",
        "!unzip -q zipball && unzip -q ./srdg-*/010_LetterPress.zip\r\n",
        "!mv ./srdg-*/line_hocr.sh . #unzip data and take the shell script\r\n",
        "!chmod +xxx ./line_hocr.sh # make executable\r\n",
        "!rm -rf zipball srdg-* # delete redundant archives"
      ],
      "execution_count": 25,
      "outputs": []
    },
    {
      "cell_type": "code",
      "metadata": {
        "colab": {
          "base_uri": "https://localhost:8080/"
        },
        "id": "ZXcUsHLtzPU2",
        "outputId": "f56300d0-d10b-4315-ed1a-564248c62cdc"
      },
      "source": [
        "!wget https://github.com/ocropus/hocr-tools/archive/master.zip && \\\r\n",
        "unzip -q ./master.zip\r\n",
        "!rm -rf ./master.zip # get hocr-tools"
      ],
      "execution_count": 26,
      "outputs": [
        {
          "output_type": "stream",
          "text": [
            "--2020-12-12 09:51:57--  https://github.com/ocropus/hocr-tools/archive/master.zip\n",
            "Resolving github.com (github.com)... 140.82.114.4\n",
            "Connecting to github.com (github.com)|140.82.114.4|:443... connected.\n",
            "HTTP request sent, awaiting response... 302 Found\n",
            "Location: https://codeload.github.com/ocropus/hocr-tools/zip/master [following]\n",
            "--2020-12-12 09:51:57--  https://codeload.github.com/ocropus/hocr-tools/zip/master\n",
            "Resolving codeload.github.com (codeload.github.com)... 140.82.114.9\n",
            "Connecting to codeload.github.com (codeload.github.com)|140.82.114.9|:443... connected.\n",
            "HTTP request sent, awaiting response... 200 OK\n",
            "Length: unspecified [application/zip]\n",
            "Saving to: ‘master.zip’\n",
            "\n",
            "master.zip              [ <=>                ]   1.46M  --.-KB/s    in 0.1s    \n",
            "\n",
            "2020-12-12 09:51:57 (12.5 MB/s) - ‘master.zip’ saved [1532153]\n",
            "\n",
            "replace hocr-tools-master/.gitignore? [y]es, [n]o, [A]ll, [N]one, [r]ename: "
          ],
          "name": "stdout"
        }
      ]
    },
    {
      "cell_type": "markdown",
      "metadata": {
        "id": "_St63kb18VRt"
      },
      "source": [
        "# Preprocessing data"
      ]
    },
    {
      "cell_type": "code",
      "metadata": {
        "id": "tYmefEiFzVaf"
      },
      "source": [
        "# Run shell script to split lines\r\n",
        "!bash line_hocr.sh&>./preprocessing.log"
      ],
      "execution_count": 14,
      "outputs": []
    },
    {
      "cell_type": "code",
      "metadata": {
        "id": "PiAt76_y5N8h"
      },
      "source": [
        "# Move the split images into separate folder to correct ground truth\r\n",
        "!mkdir -p ./data/ben-ground-truth\r\n",
        "!mv ./010_LetterPress-Data/*.exp0.* ./data/ben-ground-truth/"
      ],
      "execution_count": 15,
      "outputs": []
    },
    {
      "cell_type": "code",
      "metadata": {
        "id": "GVFeX5pb6ieK"
      },
      "source": [
        "!zip -r -q data.zip ./data # zip for downloading"
      ],
      "execution_count": 17,
      "outputs": []
    },
    {
      "cell_type": "code",
      "metadata": {
        "colab": {
          "resources": {
            "http://localhost:8080/nbextensions/google.colab/files.js": {
              "data": "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",
              "ok": true,
              "headers": [
                [
                  "content-type",
                  "application/javascript"
                ]
              ],
              "status": 200,
              "status_text": "OK"
            }
          },
          "base_uri": "https://localhost:8080/",
          "height": 92
        },
        "id": "6aJOMBUpXC3-",
        "outputId": "f195d621-31d4-4f34-8e6c-c4e0220bab36"
      },
      "source": [
        "# After correcting ground truth, upload data again\r\n",
        "from google.colab import files\r\n",
        "files.upload()"
      ],
      "execution_count": 27,
      "outputs": [
        {
          "output_type": "display_data",
          "data": {
            "text/html": [
              "\n",
              "     <input type=\"file\" id=\"files-f95bf513-29cd-48c2-8758-62667f9de3c8\" name=\"files[]\" multiple disabled\n",
              "        style=\"border:none\" />\n",
              "     <output id=\"result-f95bf513-29cd-48c2-8758-62667f9de3c8\">\n",
              "      Upload widget is only available when the cell has been executed in the\n",
              "      current browser session. Please rerun this cell to enable.\n",
              "      </output>\n",
              "      <script src=\"/nbextensions/google.colab/files.js\"></script> "
            ],
            "text/plain": [
              "<IPython.core.display.HTML object>"
            ]
          },
          "metadata": {
            "tags": []
          }
        },
        {
          "output_type": "stream",
          "text": [
            "Saving data.zip to data.zip\n",
            "caution: filename not matched:  .\n"
          ],
          "name": "stdout"
        }
      ]
    },
    {
      "cell_type": "code",
      "metadata": {
        "id": "qfIOdtmdX-IA"
      },
      "source": [
        "# Delete old directory with unclean data and unzip archive\r\n",
        "!rm -rf data\r\n",
        "!unzip -q data.zip\r\n",
        "!rm -rf data.zip # remove redundant archive file"
      ],
      "execution_count": 28,
      "outputs": []
    },
    {
      "cell_type": "markdown",
      "metadata": {
        "id": "uKRtqnN_5_8I"
      },
      "source": [
        "# Training"
      ]
    },
    {
      "cell_type": "code",
      "metadata": {
        "colab": {
          "base_uri": "https://localhost:8080/"
        },
        "id": "5zwvtyGpihiT",
        "outputId": "1edf5926-96d2-40aa-a382-bda39c9e5cbd"
      },
      "source": [
        "!rm -rf tesstrain-master # remove old downloads for session continuity\r\n",
        "!wget https://github.com/tesseract-ocr/tesstrain/archive/master.zip && \\\r\n",
        "unzip ./master.zip # unzip training diretory\r\n",
        "!rm -rf ./master.zip # remove redundant archive"
      ],
      "execution_count": 29,
      "outputs": [
        {
          "output_type": "stream",
          "text": [
            "--2020-12-12 09:57:34--  https://github.com/tesseract-ocr/tesstrain/archive/master.zip\n",
            "Resolving github.com (github.com)... 140.82.114.3\n",
            "Connecting to github.com (github.com)|140.82.114.3|:443... connected.\n",
            "HTTP request sent, awaiting response... 302 Found\n",
            "Location: https://codeload.github.com/tesseract-ocr/tesstrain/zip/master [following]\n",
            "--2020-12-12 09:57:34--  https://codeload.github.com/tesseract-ocr/tesstrain/zip/master\n",
            "Resolving codeload.github.com (codeload.github.com)... 140.82.114.10\n",
            "Connecting to codeload.github.com (codeload.github.com)|140.82.114.10|:443... connected.\n",
            "HTTP request sent, awaiting response... 200 OK\n",
            "Length: unspecified [application/zip]\n",
            "Saving to: ‘master.zip’\n",
            "\n",
            "master.zip              [  <=>               ]   5.19M  15.8MB/s    in 0.3s    \n",
            "\n",
            "2020-12-12 09:57:35 (15.8 MB/s) - ‘master.zip’ saved [5445507]\n",
            "\n",
            "Archive:  ./master.zip\n",
            "c72c7d1225d030ca9db5990b2a581f82f3a4e5b6\n",
            "   creating: tesstrain-master/\n",
            "   creating: tesstrain-master/.github/\n",
            "  inflating: tesstrain-master/.github/stale.yml  \n",
            "  inflating: tesstrain-master/.gitignore  \n",
            "  inflating: tesstrain-master/.pylintrc  \n",
            "  inflating: tesstrain-master/LICENSE  \n",
            "  inflating: tesstrain-master/Makefile  \n",
            "  inflating: tesstrain-master/README.md  \n",
            "  inflating: tesstrain-master/generate_gt_from_box.py  \n",
            "  inflating: tesstrain-master/generate_line_box.py  \n",
            "  inflating: tesstrain-master/generate_line_syllable_box.py  \n",
            "  inflating: tesstrain-master/generate_wordstr_box.py  \n",
            "  inflating: tesstrain-master/normalize.py  \n",
            "  inflating: tesstrain-master/ocrd-testset.zip  \n",
            "   creating: tesstrain-master/plot/\n",
            "  inflating: tesstrain-master/plot/plot_cer.py  \n",
            "  inflating: tesstrain-master/plot/plot_cer_validation.py  \n",
            " extracting: tesstrain-master/requirements.txt  \n",
            "  inflating: tesstrain-master/shuffle.py  \n"
          ],
          "name": "stdout"
        }
      ]
    },
    {
      "cell_type": "code",
      "metadata": {
        "id": "aky9iO0wzefs"
      },
      "source": [
        "!mv ./data ./tesstrain-master/"
      ],
      "execution_count": 30,
      "outputs": []
    },
    {
      "cell_type": "code",
      "metadata": {
        "colab": {
          "base_uri": "https://localhost:8080/"
        },
        "id": "SLToS-CNY5dB",
        "outputId": "0a05ac72-69da-4e59-a83a-705b3f91755d"
      },
      "source": [
        "%cd ./tesstrain-master/\r\n",
        "import os\r\n",
        "print(os.getcwd())"
      ],
      "execution_count": 37,
      "outputs": [
        {
          "output_type": "stream",
          "text": [
            "/content/tesstrain-master\n",
            "/content/tesstrain-master\n"
          ],
          "name": "stdout"
        }
      ]
    },
    {
      "cell_type": "code",
      "metadata": {
        "id": "-zLZittnZK2b"
      },
      "source": [
        "# temporary - fix stupid mistake of not renaming .txt files to .gt.txt\r\n",
        "%cd ./data/ben-ground-truth/\r\n",
        "!rename 's/.exp0.txt$/.exp0.gt.txt/' *.exp0.txt\r\n",
        "%cd ../..\r\n",
        "print(os.getcwd())"
      ],
      "execution_count": null,
      "outputs": []
    },
    {
      "cell_type": "code",
      "metadata": {
        "id": "7q-ZCc1CZx1P"
      },
      "source": [
        "# Cleanup\r\n",
        "!rm -rf ./data/ben \r\n",
        "!rm -rf radical-stroke.txt\r\n",
        "!rm -rf ./data/ben-ground-truth/*.box ./data/ben-ground-truth/*.lstmf"
      ],
      "execution_count": 43,
      "outputs": []
    },
    {
      "cell_type": "code",
      "metadata": {
        "colab": {
          "base_uri": "https://localhost:8080/",
          "height": 424
        },
        "id": "wKbu6nLYb4xc",
        "outputId": "8ed4dfaf-d8a7-48c6-d094-9888082de2e6"
      },
      "source": [
        "!make training MODEL_NAME=ben"
      ],
      "execution_count": 44,
      "outputs": [
        {
          "output_type": "stream",
          "text": [
            "make: Warning: File 'data/ben-ground-truth/20-012.exp0.gt.txt' has modification time 18194 s in the future\n",
            "find data/ben-ground-truth -name '*.gt.txt' | xargs cat | sort | uniq > \"data/ben/all-gt\"\n",
            "unicharset_extractor --output_unicharset \"data/ben/unicharset\" --norm_mode 2 \"data/ben/all-gt\"\n",
            "Bad box coordinates in boxfile string! তিনিই ছিলেন সর্বাপেক্ষা প্রাচীন ও বিজ্ঞ, এজন্য সকলেই তাঁকে শ্রদ্ধাক'রে দেখ। সেই সেদিন বললে না ?বট গাছের ছায়ায় সে বসেছে। সন্ধা তখনও নামেনি, ঝিরঝিরে বাতাসেসুরদাসের কথা কেমন অসংলগ্ন বোধ হতে লাগল, তাঁর মুখের দিকে চেয়েঘটপূর্ণ জল দেবীর গায়ে ছিটিয়ে দিও।সুনন্দা বললে—আমি কি একা ছিলাম ? দুপুর বেলায় আমি একাতাঁর, না জানি কত সুন্দর তাঁর মুখশ্ৰী! আচাৰ্য বসুব্রত বলেন বটে......দেবী বললেন—না। এক সন্ন্যাসী আমায় এখানে সঙ্গে করে এনেছেন,জ্যোৎস্না পথ ঘাট ধুইয়ে দিচ্ছিল। দুর মাঠের গাছপালা জোৎস্নায় ঝাপসাতার অবাধ্য মন যে এই সব পরিপূর্ণ জোৎস্নারাত্রে মহাকোটঠি বিহারেরসেদিন ঘুরতে ঘুরতে অবসন্ন অবস্থায় উরুবিল্ব গ্রামের প্রান্তে একটা বড়বলছ ? আমার দেশ কোথায় জানিনে। আমি নাকি বিদিশার পথের ধারেতুমি মেঘ-মল্লারে সিদ্ধ, তোমার গানে দেবী ওখানে আসবেনই, এলে তারপরহ’ল না। পূর্ণবর্দ্ধন বললেন--এই সব কুসংসর্গ থেকে দূরে রাখবার জন্যইবাইরে গিয়ে সুরদাস আলোতে প্রদ্যুম্নের মুখ ভালো করে দেখলেন,আসে তাই বাজাই, তবে মেঘ-মল্লার মাঝে মাঝে বাজিয়েছি।মন্ত্রে বাঁধব। এর আগে আমার বিশ্বাসই ছিল না যে, এমন একটা ব্যাপারশাকুনশাস্ত্রের চর্চায় অত্যন্ত উৎসাহ দেখাচ্ছেন।বললেন, আমি কাপুরুষ, আমার সে সাহস নেই, নইলে--তাড়াতাড়ি আঁচলে চোখ মুছে তিনি প্রদ্যুম্নের সামনে অন্নে পূর্ণ কাঠেরপ্রদ্যুম্ন দৃঢ়হস্তে আর এক অঞ্জলি জল দেবীর সর্বাঙ্গে ছড়িয়ে দিলে।দেবী বললেন--কেন, আমি ত বিদিশার পথের ধারে—আমি অনেকদিন তারপর গুণাঢ়্যের আর কোনো সংবাদ জানতাম না।—আমায় কিছু খেতে দেবেন? আমি সমস্ত দিন কিছু খাইনি।অন্ধকার ততই তাঁর চারিপাশে গাঢ় হয়ে আসছে, নদীর মাছগুলো তাঁরবিহার ছেড়ে সুরদাসের খোঁজ করে বেড়াচ্ছিল বটে, কিন্তু দেখা পেলেতিনি অন্যমনস্কভাবে বাইরে সাঁঝের রক্তিম আকাশে যেখানে উরাবিল্ব গ্রামেরনদীর ধারে এসে কিন্তু প্রদ্যুম্ন বড় নিরুৎসাহ হয়ে পড়ল। সে বাঁশীআষাঢ়ী পূর্ণিমার রাতে প্রদ্যুম্ন সুরদাসের সঙ্গে নদীর ঘাটে গেল। তারাতিনি দুজনকে খেতে দেবার জন্য ব্যস্ত হয়ে কুটীরের মধ্যে চলে গেলেন।দিতে না পেরে আমার মন খুবই খারাপ হয়েছিল। এখন তুমি এখানেপ্রদ্যুম্ন অত্যন্ত বিস্মিত হল। এই প্রৌঢ়ের সঙ্গে তার মোটে একতেসং হেতুং তথাগতো আহএমন সিদ্ধ ছিল যে, আষাঢ়ী পূর্ণিমার রাতে তার আলাপে মুগ্ধা হয়ে দেবীপূর্ণিমার চাঁদকে তখন মেঘে প্রায় ঢেকে ফেলেছে। একটু একটু জোৎস্নাহয়ে তাঁকেই প্রার্থনা করে বসে। সরস্বতী দেবী বলেছিলেন, তাঁকে পাওয়াসমস্ত রাত সে কুটীরের বাইরে খোলা হাওয়ায় বসে কাটালে। দেবীওডোবার মত জলাশয়টা তৈরি করেছে। প্রদ্যুম্নের হঠাৎ চোখ পড়ল,ততই বাধা দিচ্ছে, নদীর জলে তাঁর অঙ্গের জ্যোতি ততই নিবে আসছে,পিছনে চলল। পাহাড়ের উপর উঠে গিয়ে—একটু দুরে বুনো বাঁশঝাড়েরমতী দেবীর দুঃখ দেখে একটা বড় মাছ দাঁত বার করে হিংস্ৰ হাসি হাসছে,হয়। সে তন্ত্রোক্ত মন্ত্রবলে দেবীকে বন্দিনী করবার জন্যে উপযুক্ত তান্ত্রিকগুণাঢ্য বললেন--সত্যই তা হলে তুমি এতে প্রস্তুত ?বিষয়টা চেষ্টা করে দেখব, তুমি কি বল ?এই তো তিনি! ভদ্রাবতীর তীরে শালবনে ইনিই তো পথ হারিয়েকিন্তু এতটা আত্মবিস্মৃত হওয়া, এ যে তার কল্পনার বাইরের জিনিস।প্রদ্যুম্নের চোখ হঠাৎ অশ্রুপূর্ণ হ'ল।প্রদ্যুম্ন দেখলে কুটীরে কেউ নেই, জিজ্ঞাসা করলে—আপনি কি এখানে—দিই যদি আপনি এক কাজ করেন।এবং বাদী মহাসমনো...যা আছে, তা কেমন হলদে রং-এর; গ্রহণের সময় জ্যোৎস্নার এ রকম রংএমন সিদ্ধ ছিল যে, আষাঢ়ী পূর্ণিমার রাতে তার আলাপে মুগ্ধা হয়ে দেবীএক জ্যোৎস্নাবরণী অনিন্দ্যসুন্দরী মহিমাময়ী তরুণী। তাঁর নিবিড়কৃষ্ণমেয়েটি ভাবত, আসবে ------ আসবে, কাল আসবে------ পাতার শব্দে চমকে উঠেসুরদাস বললে—তুমি ভেবো না, কোনো অনিষ্টজনক ব্যাপার হলেদেবী কাঠের বড় পাত্রে সযত্নে স্যুপ ও অন্ন পরিবেশনে ব্যস্ত ছিলেন, প্রশ্নতার প্রাণ আকুল হয়ে উঠল। ঐ পুব আকাশের নবমীর চাঁদ কেমন উজ্জ্বলপ্রদ্যুম্ন হঠাৎ খুব উচ্চৈঃস্বরে হেসে উঠল, বললে--ওহো তাই! নইলেআমি তোমাকে বলতাম না।জানত না এমন লোক এদেশে খুব কম আছে। প্রতি উৎসবেই কৌশাম্বী থেকেসময় রোজই জল নিয়ে আসেন।রসধারা বিশ্বে সব সময় ঝরে পড়ছে, তার বাঁশীর গানে সে-রস যেন মত্তপ্রদ্যুম্ন সুরদাসের আকৃতি বর্ণনা করলে।পাতার ফাঁক দিয়ে চিকচিকে জ্যোৎস্নার আলো পড়ে তার সর্ব্বাঙ্গে আলোপ্রসন্ন হিল্লোল বয়ে গেল। তার সারা দেহমন আনন্দে শিউরে উঠল ; সঙ্গেঅপ্রীতিকর মেটে লাল রং!পাশে যেতেই তার অত্যন্ত পরিচিত কন্ঠের হালকা মিষ্টি হাসির ঢেউয়ে সেদীক্ষা গ্রহণ করে। তার নাম সুনন্দা, সে হিরণ্যনগরের ধনবান শ্রেষ্ঠীতবে বেড়াতে বেড়াতে কতকগুলি কৌতুহলজনক কথা তার কানেতার একেবারেই চোখে পড়ল না। অনেক রাত্রে হোম শেষ হ'ল।মধ্যে দিয়ে কতদিন উভয়ের অজ্ঞাতে রোদভরা মধ্যাহ্নে গিয়ে সন্ধ্যার অন্ধকারতাঁর চক্ষু অশ্রুপূর্ণ হ'ল। আবেগভরে তিনি প্রদ্যুম্নকে আলিঙ্গন করেহঠাৎ গুণাঢ্যর দিকে চেয়ে সে বললে--চলুন, আপনার সঙ্গে যাব, আমায়দেব-মূর্তি বহুদিন অন্তর্হিত। সমস্ত গায়ে বড় বড় ফাটল সাপখোপের বাস।এই তো তিনি! ভদ্রাবতীর তীরে শালবনে ইনিই তো পথ হারিয়েকলাতেই নিপুণতা নেই যে তাঁকে পেতে পারে, অনেক জীবন ধরেডাকে।সুরদাস একটু ব্যগ্রভাবে জিজ্ঞাসা করলেন—এতে কি তোমার অমতশুনে ছুটতে ছুটতে গিয়ে পুকূরের ধারে উপস্থিত হল। দেখলে সত্যইএসেছিলাম বটে, কিন্তু তখন ত আর তুমি আসনি? তার পর আমাদেরসুনন্দা তাড়াতাড়ি প্রদ্যুম্নের মুখে নিজের হাতদুটি চাপা দিয়ে লজ্জিতসুনন্দা বললে—যাও। আর মিথ্যে ভানে দরকার নেই। কি কথা মনেদশ-পনের দিন কেটে গেল ।শুনে আমার মনে হচ্ছে কাল রাত্রে সে কৃতকার্য হয়েছে বোধ হয়। এতদিননিমেষের জন্যে তার চোখের সামনে বাতাসে এক অপূর্ব সৌন্দর্যের স্নিগ্ধকরো মন্দিরে সে আছে কিনা, থাকে যদি আমায় সংবাদ দিও।নামল। সারা আকাশ জুড়ে কোন বিরহিণী পুরসুন্দরীর অযত্নবিন্যস্ত মেঘবরণবসনের মধ্যে অর্ধ লুক্কায়িত মণিমেখলায় দীপ্তিমান, তাঁর রপ্তকমলের মত পাফুল।রইল।জ্ঞান লুপ্ত না হয়ে যায়, ততক্ষণ এই ভেবে আমার সুখ যে, বিশ্বেরসুনন্দা আর কখনো লক্ষ্য করেনি!সুরদাস অনেকগুলো রক্তজবার মালা সঙ্গে করে এনেছিলেন, তার মধ্যেশিরশির শব্দ হচ্ছে, দীর্ঘ দীর্ঘ বেতডাঁটার ছায়ায় পাষাণমূর্তিটার মুখ ঢাকাকুমারশ্রেণীর বিহারে আচার্য সঈলব্রতের কাছে একটি মেয়ে অপ বয়সে পাহাড়ের নিচে এক জায়গায় ঝরণার জল খানিকটা আটকে গিয়ে ওইপাঠ অনায়ত্ত দেখে তাকে ভৎর্সনা করলেই বা কি করা যাবে? এ রকমপড়ল। যে পিপ্পল গাছের সারির ফাঁক দিয়ে আলো আসছিল, তার কাছেপ্রদ্যুম্ন অধীর ভাবে বলে উঠল, কিন্তু আপনি যে বলেছেন--শুনে একটা মন্ত্র শিক্ষা দিয়েছেন, এটা পূর্ব মন্ত্রের বিরোধী শক্তিসম্পন্ন। সেইপূর্ণবর্দ্ধন একটুখানি কি ভাবলেন, তারপর বললেন—এই রকম একটাতাদের বিহারে একজন ভিক্ষু ছিলেন, তিনি যোগাচাৰ্য পদ্মসম্ভবের শিষ্য।মুখে বললে –চুপ চুপ, তোমার কি এতটুকু কাণ্ডজ্ঞান নেই? এখনি যে সবপ্রদ্যুম্ন তাঁর হাতে ফুলটা দিয়ে বললে—হাঁ, আমিও দেখি আপনি সন্ধ্যারমূর্ত্তি তৈরী করতে আদিষ্ট হয়েছিলেন। এক বৎসর পরিশ্রম করে তিনি যেগুণাঢ্য বললেন--আমি এখান থেকে আগে চলে যাই, তারপর এইভাবলে, গাছের পাতার ফাঁক দিয়ে জোৎস্না এসে পড়ে থাকবে, কিন্তু ভালোআসতে দেখে সে তা হাতে তুলে নিলে।রাতে একজন প্রায়-অপরিচিত তান্ত্রিকের সঙ্গে একা থাকবার ভয়ের দিকটাবাজাল বটে, কিন্তু সে যেন ভাসা-ভাসা। সুরের সঙ্গে তাতে তার প্রাণেরসে তেমন মিশত না, সর্বদাই নিজের কাজে সময় কাটাত আর সর্বদাই কেমনপ্রদ্যুম্ন বললে—তুমি বড় মানুষের মেয়ে—তোমার কথাই আলাদা—প্রদ্যুম্নের বাঁশী শুনতে সুনন্দা ভালোবাসত বলে প্রদ্যুম্ন যখনই বিহার থেকেদুই একটা যবাগু পানের ঘট , আগুন জ্বালাবার জন্য সংগৃহীত কিছু শুকনাসে বললে—কি কথা না শুনে কি'করে-গুনাঢ্য। কার্যসিদ্ধির জন্য তোমার কাছে মিথ্যা নাম বলেছে--গোধুলির আলোয় দেবীর মুখপদ্মে অপরূপ শ্ৰী ফুটে উঠল।পড়ে গেছে। সে অন্ধকার অর্ধরাত্রে জনহীন পাহাড়টার বাঁশগুলোর মধ্যেশাস্তি আমাকে নিতে হবে। কিন্তু আমি তার জন্যে এতটুকু দুঃখিত নই। যতক্ষণযখন সেখানে পৌঁছল, তখন মেঘ নেমে সমস্ত আকাশ ছেয়ে ফেলেছে,আঁকছেন, কিন্তু তাঁর মুখে অতৃপ্তি ও অসাফল্যের একটা চিহ্ন আঁকা ।ছায়া নেমে আসছে, রাঙা সূর্য আবার উরুবিল্ব গ্রামের উপর ঝুলে পড়েছে।দেবী বললেন, তুমি মাঠের মাঝের ওই বড় গাছটার তলায় রোজ বসেবলনি কেন ?— এপারে এস, থাকগে ফুল।আহারাদি যখন শেষ হ’ল তখন সন্ধ্যার আর বেশি দেরি নেই। বেতবনেতেসঞ্চ যে নিরোধোশুনে বিস্ময়পূর্ণ দৃষ্টিতে তিনি প্রদ্যুম্নের দিকে চেয়ে বললেন--আমার কথাএস, এস। আমি তোমার কথা প্রায়ই ভাবি। তোমায় সেদিন কিছু খেতেমহাকোটঠি বিহারের চিত্রবিদ্যা-শিক্ষক ভিক্ষু বসুব্রত \"বুদ্ধ ও সুজাতা\"প্রদ্যুম্ন জিজ্ঞাসা করলে—আপনার এখানে একা রাত্রে থাকতে ভয়প্রদ্যুম্ন দেখলে, তাঁর চোখ দুটো যেন অর্ধ-অন্ধকারের মধ্যে জ্বল জ্বল করছে।তিনি। তার মনের মধ্যে গোলমাল বেঁধে গেল। সে উত্তেজনার মাথায়কোরো না প্রদ্যুম্ন, ভেবে দেখ, মৃত্যুর পর হয়তো পরজগৎ আছে, কিন্তুনয়। বুঝেতে পেরেছি, তুমিই পারবে, এ আমি আগেও জানতাম।প্রসিদ্ধ তীর্থ-স্থান হয়ে ওঠে। সে গায়ক মারা যাওয়ার পরেও কিন্তু পুর্ণিমারসুরদাসের কথা শুনে প্রদ্যুম্ন অবাক হয়ে গেল। তা কি করে হয় ?সত্য তাঁকে দেখতে পাওয়া--এ কি সম্ভব ?আসব।নদীর ধারে এসে কিন্তু প্রদ্যুম্ন বড় নিরুৎসাহ হয়ে পড়ল। সে বাঁশীকাউকে বিহারের দিকে আসতে দেখলে সে একপটে সেদিকে চেয়ে থাকত,নিজের চোখে দেখো। তোমার অমত না থাকলে আমি সামনের পুর্ণিমায়বেয়ে বেতবনের ধার দিয়ে পাহাড়ের অপর পারে চলে গেলেন, তারই নীচেদেব নিশ্চয়—আঁধারের জাল বুনেছে। প্রদ্যুম্ন চাইতেই সুনন্দা ঘাড় দুলিয়ে বলে উঠল—তাকে বললেন --শোন প্রদ্যুম্ন, একটা গোপনীয় কথা তোমার সঙ্গে আছে।কিন্তু তবু সে বসে একমনে বাঁশীতে মেঘ-মল্লার আলাপ আরম্ভ করলে।নেমে গেলেন।জ্ঞান লুপ্ত না হয়ে যায়, ততক্ষণ এই ভেবে আমার সুখ যে, বিশ্বেরএক এক রাত্রে সে বড় অদ্ভুত স্বপ্ন দেখত। কোথাকার যেন কোন একতিনি এখানকার নদীর ধারের দেউলে থাকেন। ভালো কথা—তোমারসৌন্দর্যতৃষ্ণা সৃষ্টিমুখী হয়ে উঠেছে, এর আশীর্বাদে দিকে দিকে সত্যের প্রাণসুরদাসের কথার পর থেকেই প্রদ্যুম্ন অত্যন্ত বিস্ময়ে ও কৌতুহলে কেমনদেবী বলে দিলেন—সন্ন্যাসী এলে একদিন আবার এস।দিনের আলাপ এমন কি গোপনীয় কথা ইনি তাকে বলবে?মূর্ত্তি তৈরী করতে আদিষ্ট হয়েছিলেন। এক বৎসর পরিশ্রম করে তিনি যেআসবে। এই এক বৎসর সে কাঞ্চী,উত্তর কৌশল, ও মগধের সমস্ত স্থানঅনেকক্ষণ প্রদ্যুম্নের কেমন একটা মোহের ভাব দূর হ'ল না। সে যাসেইদিন গভীর রাত্রে প্রদ্যুম্ন কাউকে কিছু না বলে চুপি চুপি বিহার পরিত্যাগ করলে।উঠিয়ে এনেছেন। সেই থেকে এখানেই আছি—তার আগে কোথায় ছিলামভাবলে, গাছের পাতার ফাঁক দিয়ে জোৎস্না এসে পড়ে থাকবে, কিন্তু ভালোশোনাবার জন্যেই এনেছিলাম। তবে ওকে খুঁজছিলাম, বীণটা ভালোকেউ নেই, গুণাদা, তে! নেইই, নেই আজীবক সঙ্্যালী পর্যন্ত নেই। তোমায় বাঁশী শোনাই, আমার সঙ্গেই আছে—সত্যি বলছি, তোমায়ক'রে ব'সে আছে, সেই সময় দেবী জলাশয়ে নামলেন। সেও কি ভেবেকাজ করি।আমার সঙ্গে-তোমায় খেতে দিইগে।শাস্তি আমাকে নিতে হবে। কিন্তু আমি তার জন্যে এতটুকু দুঃখিত নই। যতক্ষণদেবীর চোখে হতাশার দৃষ্টি ফুটে উঠল, বললেন—থাকো না কেন রাত্রে?পড়েছে, তাঁর আয়ত নয়নের দীর্ঘ কৃষ্ণপক্ষ কো্ন স্বর্গীয় শিল্পীর তুলি দিয়েবাবা কোথায় ?চাই। তা আমি বলছিলাম, সামনের পূর্ণিমায় তুমি আর আমি এইজানত না এমন লোক এদেশে খুব কম আছে। প্রতি উৎসবেই কৌশাম্বী থেকেপ্রদ্যুম্নের গতি দ্রুত হ’ল।আচার্য্য পূর্ণবর্দ্ধন দর্শনের অধ্যাপক ছিলেন, মঠের ভিক্ষুকদের মধ্যেবিবাহ করতে সম্মত হয় নি। অত্যন্ত তরুণ বয়সে প্ৰব্ৰজ্যা গ্রহণ করায় সেগুলোর চারিধারে চক্রাকারে ঘু্রছেন, তাঁর মুখশ্রী অত্যন্ত বিপন্নের মত।নিজে সঙ্গীতের কিছুই জানিনে যে তা নয়, কিন্তু আমি জানতাম যেদেখা হয়ে পড়ে বলা যায় না।তুমি মেঘ-মল্লারে সিদ্ধ, তোমার গানে দেবী ওখানে আসবেনই, এলে তারপরফুটে আছে, অনেক বন্যহংস তার জলে খেলা করছে।আত্মবিস্মৃতা বন্দিনী দেবীর চোখ দুটির করুণ অসহায় দৃষ্টি প্রদ্যুম্নেরসুরদাস উৎসাহের সুরে বললেন–পারা তো উচিত। তোমার বাবাকেসুরদাস গলার স্বর নামিয়ে বলতে লাগলেন–নদীর ঐ বড় বাঁকে যেক্ষমতাও ছিল। তার আলাপ অতি মধুর হল। লতাপাতা ফলফুলেরকরে না ?দেবী বললেন--কেন, আমি ত বিদিশার পথের ধারে—গান পৃথিবীর মানুষের গান নয়, সে গান প্রাণধারার আদিম ঝরণার গান,একবার ভালো করে ভেবে দেখ, কোন মিথ্যা আশায় ভুলো না, এ থেকেদেবী স্বয়ং গায়কের কাছে আর্বিভূত হন। এ সংবাদ এদেশে কেউ জানেনিজে সঙ্গীতের কিছুই জানিনে যে তা নয়, কিন্তু আমি জানতাম যেপৌঁছয়, আজও প্রদ্যুম্নের প্রাণের বেলায় তার ঢেউ এসে লাগল। সে ভাবলে,কুমুদ ফল সংগ্রহে বড় ব্যস্ত। একটা বড় ফল জলাশয়ের এপারের দিকেদেবার জন্যে আমি শতবার জীবন দিতে প্রস্তুত।প্রদ্যুম্ন এক অঞ্জলি জল তাঁর সর্বাঙ্গে ছিটিয়ে দিলে।ঐ উদ্দেশ্যেই সে কোথাও তন্ত্রসাধনা করছিল। যাক তুমি এখনি গিয়ে সন্ধানহয়েছে! মগধ যাবার রাজপথে গাছের সারির মাথায় একটা তারা ফুটেবৎসর আগে সে মায়ের কোলে জন্মেছিল, তার সে মা বারাণসীতে তাদেরমন্ত্রশক্তি নির্মম অমোঘ, কাউকে রেহাই দেবে না।সুনন্দাকে দেখে প্রদ্যুম্ন মনে মনে ভারি খুশী হ'ল, মুখে বললে—না, তাকুটীরের দিকে চেয়ে পাহারা রাখত। তার তরুণ বীর হৃদয় এক ভীরু নারীকেযায়, এই ভয়ে সে খুব দ্রুতপদে যাচ্ছিল। যেতে যেতে তার চোখে পড়লনিজের চোখে দেখো। তোমার অমত না থাকলে আমি সামনের পুর্ণিমায়দ্যুতিশালিনী নারী বনের মধ্যে চারিধারে ঘুরে বেড়চ্ছেন, জোনাকীমনে এল। যদি তা না হয় তা হলে তাঁকে যে চিরদিন বন্দিনী থাকতেডোবার এদিকের পাড়ের দিকে দাঁড়াল--দেখলে দেবী ঘট নামিয়ে রেখেফুলটা আমায় তুলে দেবে ?পথের পাশে একটা গাছ। গাছের নিকট যেতে প্রদ্যুম্নের মনে হ'লজ্যোৎস্নারাত্রে বিহারের নির্জন পাষাণ অলিন্দে দাঁড়িয়ে দাঁড়িয়ে সেকোথা থেকে এসেছিলেন ?হাঁটতে যখন সে বিহারের উদ্যানে এসে পৌছল, মলিন চাঁদ তখন কুমারদেবী মাটির ঘট পূর্ণ করে তাকে যবাগু পান করতে দিলেন, স্বাদপ্রদ্যুম্ন তাঁর হাতে ফুলটা দিয়ে বললে—হাঁ, আমিও দেখি আপনি সন্ধ্যারপড়ল। যে পিপ্পল গাছের সারির ফাঁক দিয়ে আলো আসছিল, তার কাছেপূর্ণবর্দ্ধন বললেন, সে ইতিহাস বলছি শোন। নদীর ধারে যে সরস্বতীকোমল পা দুখানি ঠুকরে রক্তাক্ত করে দিচ্ছে......ব্যথিতদেহা, বিপন্না, বেপথুসে বললে—কি কথা না শুনে কি'করে-সদ্যনিদ্রোত্থিতার মত দেবী চমকে উঠলেন......রাতে সিদ্ধ গায়ক মল্লার আলাপ করলেই দেবী যেন কোন টানে তার কাছেঢিবিটা আছে জানো ? তার সামনেই বড় মাঠ। ওই ঢিবিটায় বহুদুপুর বেলা থেকে মন্দিরে এসে বসে আছি! একে ত এলেন বেলা করে, তার ওপর--যাও!গভীর কালো জলের তলায় রাতের অন্ধকারে কে এক দেবী পথ হারিয়েমন্ত্রপূত জল দেবীর গায়ে ছড়িয়ে দিলে তিনি আবার মুক্ত হবেন বটে, কিন্তুদেখতেই পেয়েছিলে তো আমায় ডাকলে না কেন ?গিয়ে গাছের গুড়ির ফাঁক দিয়ে উঁকি মেরে প্রদ্যুম্ন অবাক হয়ে দাঁড়িয়েসত্যি বলছি।করতে হবে, সে বলে দেব।দোর খুলতে পারিনে। ঘুম হয় না, সমস্ত রাত বসেই থাকি।আছে ?ভদ্রাবতী নদীর ধারে শাল-পিয়াল-তমাল বনে সেবার ঘনঘোর বর্ষানিকটবর্তী গ্রামবাসীরা সেদিকে বড় একটা কেউ আসত না। একজনঘরের মধ্যে গিয়ে প্রদ্যুম্নকে বললেন—এস।শুনে আমার মনে হচ্ছে কাল রাত্রে সে কৃতকার্য হয়েছে বোধ হয়। এতদিনপাতার ফাঁক দিয়ে চিকচিকে জ্যোৎস্নার আলো পড়ে তার সর্ব্বাঙ্গে আলোদেবী কুটীরের বাইরে ঘাসের উপর অন্যমনস্কভাবে চুপ করে বসে ছিলেন--যেতে যেতে সে দেখলে উদ্যানের এক প্রান্তে একটা বড় আমগাছেরদেখে তার মনে কেমন সন্দেহ হওয়াতে সে এগিয়ে গেল। ডোবারআচার্য্য বসুব্রত কলাবিদ্যা সম্বন্ধে উপদেশ দিতে দিতে অনেক বার যেআর বাজিকর—মাগো! ওদের কাছে যাও কি করে? এমন ময়লাএকটু দুরে মগধ থেকে বিদিশা যাওয়ার রাজপথ।প্রদ্যুম্ন লজ্জিত-মুখে উত্তর দিলে--একটু-আধুট বাঁশী বাজাতে পারি।করো মন্দিরে সে আছে কিনা, থাকে যদি আমায় সংবাদ দিও।ঘটকক্ষে ধাপে ধাপে উঠে চলে যান--সে রোজ বসে দেখে।ঘুরছিলেন, মাঠের মধ্যে জ্যোৎস্নারাতে এঁকেই তো সে দেখেছিল—তবে তাঁরমূর্ত্তি গড়ে তুলেছেন, তার মুখশ্রী এমন রুঢ় ও ভাববিহীন হয়েছে যে তা বুদ্ধেরআছে ?চেয়ে কি মনে আনবার চেষ্টা করলেন, বোধ হয় মনে এল না। হঠাৎ কি ভেবেঅন্যান্য দু'এক কথার পর, প্রদ্যুম্ন বিদায় নিতে উদ্যত হলে, সুরদাসভোর রাত্রে শয্যায় শুয়ে ঘুমিয়ে পড়ে সে স্বপ্ন দেখলে--ভদ্রাবতীরযায় না।আয়োজনে সাহায্য করতে করতে প্রদ্যুম্ন হাঁপিয়ে পড়ল। ব্যাপারটার শেষছায়ায় চিত্রকর ভিক্ষু বসুব্রত হরিণচর্মের আসনে বসে বোধ হয় কিচক্ষু দুটি অর্ধনিমীলিত, যেন কেমন নেশার ঘোরে তিনি চারিপাশেজিজ্ঞাসা করলে, কিন্তু গোচিকিৎসকের সন্ধান কেউ দিতে পারলে না।প্রদ্যুম্ন অত্যন্ত বিস্মিত হল। এই প্রৌঢ়ের সঙ্গে তার মোটে একবিদায় চাইলে।তাঁকে আনতে পারা যায়, তবে তাঁর বরে গায়ক সংগীতে সিদ্ধ হয়। তাঁরতাঁর নিকটে এসে কিন্তু প্রদ্যুম্নের সে ভাব কেটে গেল। সে লক্ষ্য করলেমাছটার মুখ গায়ক সুরদাসের মত!যেন হয়ে গেলেন। বললেন—তুমি এখানে ?একটা জীবন তুচ্ছ। তাঁর রাঙা পা-দুখানিতে একটা কাঁটা ফুটলে তা তুলেপ্রদ্যুম্ন বললে--আপনি কি ভাবেন আমি কিছু গ্রাহ্য করি? –কিছু না, চলুন।প্রণয়ন করতে নিযুক্ত ছিলেন, হঠাৎ তাঁর নাকি এমন দুর্দ্দশা ঘটেছে যে তিনিবনের মধ্যে এক স্থান দিয়ে যেন খানিকটা আলো বেরুচ্ছে। প্রথম সেদেবী কুটীরের সামনে এলেন, তাঁর হাতে অনেকগুলো আধ-ফোটা কুমুদথাক, না ?এ ছেলেখেলা নয়। এ কাজ-সুরদাস বললেন—কই, দেখি তুমি কেমন শিখেছ ?করে বলেছিল, সে বিশেষ কোন কাজে বিদেশে যাচ্ছে, শীঘ্রই ফিরেদেবী বললেন, তুমি মাঠের মাঝের ওই বড় গাছটার তলায় রোজ বসেপোকার হুল থেকে যেমন আলো বার হয়—তাঁর সমস্ত অঙ্গ দিয়ে তেমনিএক রকম হয়ে গিয়েছিল। সে ঘাড় নেড়ে বললে—আচ্ছা রাখবেন, আমিতাঁর চোখের কেমন একটা ক্ষুধিত দৃষ্টি যেন প্রদ্যুম্নের ভালো লাগল না।নামক তাঁর চিত্ৰখানা বৎসরাবধি চেষ্টা করেও মনের মত করে এঁকেদেখতে পেতে না!গুরু খুজতে থাকে। আমি জানি সে এক সন্ন্যাসীর কাছে তন্ত্রশাস্ত্রের উপদেশতোমার বাবার নিমন্ত্রণপত্র আসত। হাঁ, আমি শুনেছি তুমি নাকিকাঠ মন্দিরের মধ্যে এদিক ওদিক ছড়ানো পড়ে আছে।বেষ্ঠন করে নিলে, তারপর বললে—আচ্ছা থাক, বলে দেব না। চল সুনন্দা,কাজ করি।গুণাঢ্য বিস্ময়ে প্রদ্যুম্নের দিকে চেয়ে বললেন—বেশ করে ভেবে দেখ।আকর্ষণী শক্তি নেই। এইজন্যে আমি তোমাকে সঙ্গে নিয়েছিলাম, আমিবার বার সাপুড়ে আর বাজিকরদের কথা বলছ সুনন্দা-সাপুড়ে আরকাছে এ বশীকরণ মন্ত্র আমি শিক্ষা করি। এর এমনি শক্তি যে মনে করলে আমিকোন যোগ রইল না। তারা দুজনে নির্জনে আরও কতবার বসেছে,উজ্জল হয়ে উঠেছে, আর একটু নিকটে গিয়ে সে লক্ষ্য করলে তাঁর আয়তসাদা মাঠটা তরল আলোকে প্লাবিত হয়ে গেল। প্রদ্যুম্ন সবিস্ময়ে দেখলে—পাষাণমূর্তি। নিঝুম রাতে সে-পাহাড়ের বেতগাছ হাওয়ায় দুলেছে, বাঁশবনেপূর্ণবর্দ্ধন বললেন, সে ইতিহাস বলছি শোন। নদীর ধারে যে সরস্বতীএকবার করে এখানে এস, তোমাকেও তৈরী হতে হলে দু-একটা কাজআকাশের বুকে বিদ্যুৎ চমক তার হতাশ প্রাণে ক্ষণিক আশার মেঘদুত!দেখতে পেতে না!গান।দেশ কোথা?সরস্বতী স্বয়ং তার কাছে অবির্ভূতা হতেন। সেই থেকে ওই মন্দির একসাধনার প্রয়োজন। সরস্বতী দেবী অন্তর্হিত হওয়ার পর মুর্খ গুণাঢ্যের মোহআঁধারের জাল বুনেছে। প্রদ্যুম্ন চাইতেই সুনন্দা ঘাড় দুলিয়ে বলে উঠল—কুমারশ্রেণীর বিহারে আচার্য শীলব্রতের কাছে একটি মেয়ে অল্প বয়সেউঠল। বেতবনের বেতডাঁটাগুলো তরল অন্ধকারে আর ভালো দেখাসুরদাস প্রদ্যুম্নকে দেখে খুব আনন্দ প্রকাশ করলেন, তারপর বললেন–চল,দাঁড়িয়ে দাঁড়িয়ে দেখে তার আর কোন সন্দেহ রইল না যে, এইপ্রদ্যুম্ন জিজ্ঞাসা করলে—উপায় নেই কেন?বসুব্রতের আঁকা জরার চিত্রের মতই লোকটা কেমন কুশ্রী লোলচর্ম শীর্ণ-বাঁশীতে বেশ মেঘ-মল্লার আলাপ করতে পার?রাগ-রাগিণী শেখাতেন, তা ছাড়া সঙ্গীতে প্রদ্যুম্নের একটা স্বাভাবিকএসে পড়েন। এই গুণাঢ্য একবার অবন্তীর প্রসিদ্ধ গায়ক সুরদাসের সঙ্গেআর দেখব কেন? ভারি ব্যাপারটা হয়েছে গাছতলায় লুকিয়ে! আর নাখাওয়া শেষ হ’লে প্রদ্যুম্ন বিদায় চাইলে।সুনন্দা বললে-বাবা তিন চার দিন হল কৌশাম্বী গিয়েছেন মহারাজেরপাহাড়ের গা বেয়ে ধাপে ধাপে ঘট কক্ষে এক স্ত্ৰীলোক নেমে আসছেন।পাশে যেতেই তার অত্যন্ত পরিচিত কন্ঠের হালকা মিষ্টি হাসির ঢেউয়ে সেতাদের বিহারে একজন ভিক্ষু ছিলেন, তিনি যোগাচাৰ্য পদ্মসম্ভবের শিষ্য।প্রদ্যুম্ন বাঁশী বাজাতে লাগল। তার পিতা তাকে বাল্যকালে যত্ন করেকরে লক্ষ্য করে দেখে সে বুঝলে যে, সে আলো জ্যোৎস্নার আলোর মতনদেবী বলে দিলেন—সন্ন্যাসী এলে একদিন আবার এস।প্রদ্যুম্ন বললে—সে জন্যে না। কিন্তু আমি ভাবছিলাম, এটা কি করেপর্যন্ত থাকি, তিনি জানেন।প্রদ্যুম্ন বললে—শুনুন, আপনি বেশ করে মনে ক'রে দেখুন দেখি, আপনিপর্যন্ত কি দাঁড়ায় দেখবার জন্য তার মনে এত কৌতুহল হচ্ছিল যে অন্ধকারপ্রণয়ন করতে নিযুক্ত ভিলেন, হঠাৎ তার নাকি এমন ছুর্দশ! ঘটেছে যে তিনি শেখবার বড় ইচ্ছা। তাই তাঁর সন্ধানে ঘুরেছিলাম, তাঁর দেখাও পেয়েছি।চলে এল।থাকব।এবার প্রদ্যুম্নের বিস্মিত হবার পালা। তার মুখ দিয়ে কোনো কথা বারবেয়ে বেতবনের ধার দিয়ে পাহাড়ের অপর পারে চলে গেলেন, তারই নীচেশ্রেষ্ঠ আসন প্রাপ্ত হন। সরস্বতী দেবী তাঁকে সেই বরই দেন। তার পরমন্ত্রে বাঁধব। এর আগে আমার বিশ্বাসই ছিল না যে, এমন একটা ব্যাপারমন্দিরের ভগ্নস্তুপ আছে, ওটা হিন্দুদের একটা অত্যন্ত বিখ্যাত তীৰ্থস্থান।মা, না জেনে তোমার ওপর অত্যন্ত অন্যায় আমি করেছিলাম, আজ তারইবাজিকরদের আমি খুঁজিনি। শুনেছিলাম অবন্তী থেকে একজন বড় বীণগিয়েছে।ভেবেছিলাম সে এদেশ থেকে চলে গিয়েছে। কিন্তু এখন তোমার কথাকথা : তার পর মন্দির ভেঙে-চুরে ওই দাঁড়িয়েছে। ঐ ঢিবিতে বসেমাছটার মুখ গায়ক সুরদাসের মত!সে মন্ত্রপূত জল দেবেন।বনের মধ্যে এক স্থান দিয়ে যেন খানিকটা আলো বেরুচ্ছে। প্রথম সেসেটা নিছক কল্পনাই, তার সঙ্গে বাস্তবের কোন সম্পর্ক নেই। সত্যবাইরে আসত, বাঁশীটি সঙ্গে আনত। প্রদ্যুম্নের বাঁশীর অলস স্বপ্নময় সুরেরগিয়েছে।আগে দেবী পাহাড়ের গায়ের পথ বেয়ে নেমে আসেন, আবার সন্ধ্যার সময়গায়ক ছিলেন, শিক্ষা শেষ করে সকলেই আগে ওই মন্দিরে এসে দেবীরউদ্যানে পড়ল। তখন রোদ বেশ ফুটে উঠেছে, বিহারের পাঠার্থীদেরপ্রদ্যুম্ন সুনন্দার সংগঠিত পুস্পপেলব দক্ষিণ বাহুটি নিজের হাতের মধ্যেসে মন্ত্রপূত জল দেবেন।গুণাঢ্য, পুকুরের ধারে বস্ত্রাদির পুঁটুলি নামিয়ে রেখে পুকুরে স্নান করতেহবে!তোমার প্রাণশক্তি চিরকালের জন্য জড় হয়ে যাবে ; বেশ বুঝে দেখ।বলছিলে, তাকে এইমাত্র দেখে এলাম, পথের ধারে পুকুরে সে স্নান করছে।দেবার জন্যে আমি শতবার জীবন দিতে প্রস্তুত।সৃষ্টিমুখী নীহারিকাদের গান, অনন্ত আকাশে দিকহারা কোন পথিক তারারগভীর কালো জলের তলায় রাতের অন্ধকারে কে এক দেবী পথ হারিয়েহাতড়ে পার হবার পথ খুঁজে বেড়াচ্ছেন, কিন্তু তা না পেয়ে পিপ্পল গাছফেলেছেন ; তিনি যতই উপরে ওঠবার চেষ্টা পাচ্ছেন, জলের ঢেউ তাঁকেকরে খেতে দেব। সকালে যেও।একরকম স্নিগ্ধোজ্জ্বল আলো বেরুচ্ছে, অনেকদুরে প্রর্যন্ত বন সে আলোয়সেদিন কি কথা বলেছিলে মনে আছে ? তা না, যত রাজ্যের সাপুড়েএ ছেলেখেলা নয়। এ কাজ-আমি ভাবছি এত রাত পযন্ত সুনন্দা কি—খুঁজেছে, কোথাও গুণাঢ্যের সন্ধান পায়নি।তক্ষশীলার বিখ্যাত দার্শনিক পণ্ডিত যমুনাচার্য্য মীমাংসাদর্শনের ভাষ্য--কেমন, আমার কথা মিথ্যা নয় দেখলে ত?গুণাঢ্য বললেন—তুমি এখন বলছ বলে নয় প্রদ্যুম্ন, আমি এ-কাজ করবারগাছের আড়ালে কেউ যেন দাঁড়িয়ে আছে—আর একটু এগিয়ে গাছেরকুটীরে তারা যখন গিয়ে উপস্থিত হল, তখন রোদ বেশ পড়ে এসেছে।শুনে বিস্ময়পূর্ণ দৃষ্টিতে তিনি প্রদ্যুম্নের দিকে চেয়ে বললেন--আমার কথাকিছুদিন থাকো।অমৃতের মত, এমন সুস্বাদু যবাগু, সে পূর্বে কখনো পান করেনি।আসছেন। মন্ত্রপূত জলপূর্ণ ঘট সে মাটিতে নামিয়ে রেখেছিল ; দেবীকেদেখতে পেলেই বা কি? আমি তোমার ওপর ভারি রাগ করেছি, সুনন্দা,থাকো, আমি পদ্মের বীজ শুকিয়ে রেখেছি, তাই দিয়ে রাত্রে পায়েস তৈরিতবে বেড়াতে বেড়াতে কতকগুলি কৌতুহলজনক কথা তার কানেপ্রদ্যুম্নকে আসতে দেখে তিনি অত্যন্ত আনন্দিত হলেন, হাসিমুখে বললেন—প্রদ্যুম্ন বললে—আচ্ছা ধরে নিলাম আমার দোষ হয়েছে, তবে তুমি যেতারপর পাহাড়ের গায়ে কাটা ধাপ বেয়ে উঠতে লাগলেন, প্রদ্যুম্ন পিছনেকোথা থেকে এসেছিলেন ?মা, যে তুমি সেখানে পড়ে থাকতে যাবে?পূজা দিয়ে তুষ্ট না করে ব্যবসা আরম্ভ করতেন না। সে অনেক দিনেরশালের বনে নইলে এ কি কাণ্ড!সুরদাস উৎসাহের সুরে বললেন–পারা তো উচিত। তোমার বাবাকেশ্রেণীর পাহাড়ের পিছনে অস্ত যাচ্ছে।প্রায় দুশত বৎসর পূর্বে একজন তরুণ গায়ক ওখানে থাকত। তখন মন্দিরেরসে আর সেখানে মোটেই দাঁড়াল না। বন থেকে বার হয়ে দ্রুত হাঁটতেতারপর তিনি ঘটকক্ষে প্রতিদিনের মত নীচের ঝরণায় জল আনতেপিতা তো একজন প্রসিদ্ধ গায়ক ছিলেন, তুমি নিজে কিছু শিখেছ ?প্রদ্যুম্ন বললে—সে জন্যে না। কিন্তু আমি ভাবছিলাম, এটা কি করেসুরদাসকে দেখতে কি রকম বল দেখি ?প্রদ্যুম্নের চোখে জল আসছিল।...ওগো বিশ্বের আত্মবিস্মৃতা সৌন্দর্যলক্ষ্মী,প্রদ্যুম্ন আর একবার সম্মতিসূচক ঘাড়-নাড়বার পর সুরদাসের কাছেএক ভাঙা মন্দিরে অচেতন অবস্থায় পড়ে ছিলাম, সন্ন্যাসী আমায় এখানেযে ধৰ্ম্ম হেতুপ্‌পভবাদ—তিনি নিষেধ করেছিলেন--আমি তাঁর কাছে প্রতিজ্ঞাপ্রদ্যুম্ন সেখানে আর এক মূহুর্তও দাঁড়াল না। সে ছুটে গিয়ে বিহারেরঘুরছিলেন, মাঠের মধ্যে জ্যোৎস্নারাতে এঁকেই তো সে দেখেছিল—তবে তাঁরতাঁর কাছ থেকে বিদায় নিয়ে সে যখন বিহারের দিকে রওনা হলদূরে নদীর বাঁকের ভাঙ্গা মন্দিরে ক্ষীণ আলো জ্বলে উঠল, উৎসব-প্রত্যাগত—কি বলো ?সুরদাস নয় বা তার বাড়ী অবন্তীতেও নয়। সে হচ্ছে প্রসিদ্ধ কাপালিককিছু ঘটবে তা আমি জানতাম। পদ্মসম্ভব আর তার কতকগুলো কাণ্ডজ্ঞান-আষাঢ়ী পূর্ণিমার রাতে মেঘ-মল্লার নিখুঁতভাবে আলাপ করলে সরস্বতীসুরদাস নয় বা তার বাড়ী অবন্তীতেও নয়। সে হচ্ছে প্রসিদ্ধ কাপালিকআমি অনেকদিন তারপর গুণাঢ়্যের আর কোনো সংবাদ জানতাম না।ছ'দিন পরে আসেন। তুমি এখানে ব'সো।বিহারের সকলের শ্রদ্ধার পাত্রী হয়ে উঠেছিল। সেখানে কিন্তু কারো সঙ্গেপ্রদ্যুম্ন হাসি থামিয়ে বললে—এবার কিন্তু তোমার বাবা এলে বলেতাঁর চক্ষু অশ্রুপূর্ণ হ'ল। আবেগভরে তিনি প্রদ্যুম্নকে আলিঙ্গন করেপ্রদ্যুম্ন বললে—শুনুন, আপনি বেশ করে মনে ক'রে দেখুন দেখি, আপনিদেবী বিস্মিত দৃষ্টিতে প্রদ্যুম্নের দিকে চেয়ে রইলেন।কাছে বসে রইলেন। বললেন—এমন জোৎস্না, আমি কিন্তু ভয়ে বাইরেকাছে এ বশীকরণ মন্ত্র আমি শিক্ষা করি। এর এমনি শক্তি যে মনে করলে আমিহয়ে জড়াজড়ি করে আছে, মধ্যে অন্ধকারও খুব। পাছে রাত ভোর হয়েকি করবে তা সে ভাবেনি। কাজেই সে একরকম লুকিয়েই সেখান থেকেসেই সময়ে সে দেখলে—দেবী জল নিয়ে পাহাড়ের গা বেয়ে উঠেপ্রণয়ন করতে নিযুক্ত ছিলেন, হঠাৎ তাঁর নাকি এমন দুর্দ্দশা ঘটেছে যে তিনিপ্রায় দুশত বৎসর পূর্বে একজন তরুণ গায়ক ওখানে থাকত। তখন মন্দিরেরতুই যে কাজ করেছিস এর শাস্তি অনন্ত নরক। আমি এইজন্যই আজ একতিনি কুটীরের মধ্যে তাঁর দ্রব্যাদি সংগ্রহ করে নিলেন। তারপর সরু পথভদ্রাবতীর, সে কোন অনন্তের সঙ্গে নিজেকে মিশিয়ে দেবার আকুলমগধের প্রসিদ্ধ ভাস্কর মিহিরগুপ্ত রাজার আদেশমত ভগবান তথাগতেরপূর্ণবর্দ্ধন বললেন—আমি জানি। তুমি যাকে সুরদাস বলছ, তার নামতাঁর দুচারজন অনুগত ভক্ত মাঝে মাঝে আসতো যেত বলে মন্দিরের পথতারপর সে গিয়ে দেবীর পায়ের ধুলো নিয়ে তাঁকে প্রণাম করে বললে—দেবী হাসিমুখে বললেন, ওই পাহাড়ের ওপরই আমাদের ঘর--এস তুমিএস, এস। আমি তোষার কথা প্রায়ই ভাবি। তোমায় লেদিন কিছু খেতে হওয়া সম্ভব। অনেকটা মন্ত্রের গুণ পরীক্ষা করবার কৌতুহলেই আমি এসুরদাসের আকৃতির অনেকটা মিল হ’ল। তখনি সে গ্রামে গিয়ে অনেককেঅঙ্গের সে জ্যোতির এক কণাও আর নেই, পরনে অতি মলিন এক বস্ত্র।তারা যখন কুটীরের নিকটবতী হল তখন গুণাঢ্য বললেন— প্রদ্যুম্ন, আরমূর্ত্তি কি মগধের দুর্দান্ত দস্যু দমনকের মূর্ত্তি, তা সে দেশের লোক ঠিক বুঝতেকরলে। সঙ্গীর ক্রিয়াকলাপে প্রদ্যুম্ন বুঝেতে পারলে তিনি একজন তান্ত্রিক।এমন সিদ্ধ ছিল যে, আষাঢ়ী পূর্ণিমার রাতে তার আলাপে মুগ্ধা হয়ে দেবী—খুব ভয় করে। ওই বেতের বনে অন্ধকারে কি যেন নড়ে, ভয়ে আমি—যে ছিটিয়ে দেবে, সে চিরকালের জন্য পাষাণ হয়ে যাবে। আমারবাইরে আসত, বাঁশীটি সঙ্গে আনত। প্রদ্যুম্নের বাঁশীর অলস স্বপ্নময় সুরেরআরতি দেখে লোক ফিরবে!একটু পরে গুণাঢ্য বস্ত্র পরিবর্তন করে উপরে উঠে প্রদ্যুম্নকে দেখে কেমনহচ্ছে! বড় মাঠের পারে শালবনের কাছে দিকচক্ৰবালের ধারে নৈশ প্ৰকৃতিপক্ষের ওপর আমার গুরু সেই আজীবক সন্ন্যাসীর কাছে গিয়েছিলাম। তাঁরইঝোড়ো হাওয়া ঢুকে কেবল বাজছে মেঘ-মল্লার!.....রয়েছে, শাশ্বত এঁর মহিমা, অক্ষয় এঁর দান, চিরন্তন এঁর বাণী!পর যথেষ্ট অনুতপ্ত আছি। প্রতি রাত্রে ভয়ানক স্বপ্ন দেখি--কারা যেন বলছেআমার সঙ্গে-তোমায় খেতে দিইগে।ঘটপূর্ণ জল দেবীর গায়ে ছিটিয়ে দিও।মূর্ত্তি কি মগধের দুর্দান্ত দস্যু দমনকের মূর্ত্তি, তা সে দেশের লোক ঠিক বুঝতেবড় বনটা আরম্ভ হল। খুব ঘন বন, শাল দেবদারু গাছের ডালপালা নিবিড়সুরদাস বললেন--বেশ, বড় আনন্দিত হলাম। তুমি মাঝে মাঝেপ্রদ্যুম্ন সুরদাসের মূর্তি দুরে থেকে দেখে যে অস্বাচ্ছন্দ্য অনুভব করেছিলপ্রদ্যুম্ন চুপ করে রইল।হঠাৎ দেবী কেমন একপ্রকার বিহ্বল-চোখে চারিদিকে চাইলেন।আসতে পারিনে, ঘরের মধ্যে বসে রাত কাটাই।নানা গল্পে সমস্ত রাত কাটল, ভোর হলে সে বিদায় চাইলে।প্রদ্যুম্ন যা ভেবেছিল তাই ঘটল। মন্দিরে গিয়ে সে দেখল--সেখানে—বুঝেছি। তবে এখন বলতে এসেছ কেন?করলে সুরদাসের কথা কারো কাছে প্রকাশ করবে না।গুণাঢ্য বললেন--আমি এখান থেকে আগে চলে যাই, তারপর এইকিন্তু যাক, তুমি ছেলেমানুষ, তোমারই বা দোষ কি। আচ্ছা, এইহয়ে জড়াজড়ি করে আছে, মধ্যে অন্ধকারও খুব। পাছে রাত ভোর হয়েআসতে পারিনে, ঘরের মধ্যে বসে রাত কাটাই।সেই ভিক্ষুর কাছে তান্ত্রিক ক্রিয়াকলাপের কথা কিছু কিছু সে শুনেছিল।করত। তিনি সব শুনে বিস্মিত হলেন, সঙ্গে সঙ্গে তাঁর চোখে দুটি শঙ্কাকুলগৃহটিতে বসে বাতায়ন-পথে সন্ধ্যার আকাশের দিকে চেয়ে হয়তো প্রবাসীকিন্তু সেই চোখ, সেই সুন্দর গঠন!গাঁয়ের মেয়েরা"
          ],
          "name": "stdout"
        },
        {
          "output_type": "error",
          "ename": "UnicodeDecodeError",
          "evalue": "ignored",
          "traceback": [
            "\u001b[0;31m---------------------------------------------------------------------------\u001b[0m",
            "\u001b[0;31mUnicodeDecodeError\u001b[0m                        Traceback (most recent call last)",
            "\u001b[0;32m<ipython-input-44-95848fd6904f>\u001b[0m in \u001b[0;36m<module>\u001b[0;34m()\u001b[0m\n\u001b[0;32m----> 1\u001b[0;31m \u001b[0mget_ipython\u001b[0m\u001b[0;34m(\u001b[0m\u001b[0;34m)\u001b[0m\u001b[0;34m.\u001b[0m\u001b[0msystem\u001b[0m\u001b[0;34m(\u001b[0m\u001b[0;34m'make training MODEL_NAME=ben'\u001b[0m\u001b[0;34m)\u001b[0m\u001b[0;34m\u001b[0m\u001b[0;34m\u001b[0m\u001b[0m\n\u001b[0m",
            "\u001b[0;32m/usr/local/lib/python3.6/dist-packages/google/colab/_shell.py\u001b[0m in \u001b[0;36msystem\u001b[0;34m(self, *args, **kwargs)\u001b[0m\n\u001b[1;32m    100\u001b[0m       \u001b[0mkwargs\u001b[0m\u001b[0;34m.\u001b[0m\u001b[0mupdate\u001b[0m\u001b[0;34m(\u001b[0m\u001b[0;34m{\u001b[0m\u001b[0;34m'also_return_output'\u001b[0m\u001b[0;34m:\u001b[0m \u001b[0;32mTrue\u001b[0m\u001b[0;34m}\u001b[0m\u001b[0;34m)\u001b[0m\u001b[0;34m\u001b[0m\u001b[0;34m\u001b[0m\u001b[0m\n\u001b[1;32m    101\u001b[0m \u001b[0;34m\u001b[0m\u001b[0m\n\u001b[0;32m--> 102\u001b[0;31m     \u001b[0moutput\u001b[0m \u001b[0;34m=\u001b[0m \u001b[0m_system_commands\u001b[0m\u001b[0;34m.\u001b[0m\u001b[0m_system_compat\u001b[0m\u001b[0;34m(\u001b[0m\u001b[0mself\u001b[0m\u001b[0;34m,\u001b[0m \u001b[0;34m*\u001b[0m\u001b[0margs\u001b[0m\u001b[0;34m,\u001b[0m \u001b[0;34m**\u001b[0m\u001b[0mkwargs\u001b[0m\u001b[0;34m)\u001b[0m  \u001b[0;31m# pylint:disable=protected-access\u001b[0m\u001b[0;34m\u001b[0m\u001b[0;34m\u001b[0m\u001b[0m\n\u001b[0m\u001b[1;32m    103\u001b[0m \u001b[0;34m\u001b[0m\u001b[0m\n\u001b[1;32m    104\u001b[0m     \u001b[0;32mif\u001b[0m \u001b[0mpip_warn\u001b[0m\u001b[0;34m:\u001b[0m\u001b[0;34m\u001b[0m\u001b[0;34m\u001b[0m\u001b[0m\n",
            "\u001b[0;32m/usr/local/lib/python3.6/dist-packages/google/colab/_system_commands.py\u001b[0m in \u001b[0;36m_system_compat\u001b[0;34m(shell, cmd, also_return_output)\u001b[0m\n\u001b[1;32m    438\u001b[0m   \u001b[0;31m# stack.\u001b[0m\u001b[0;34m\u001b[0m\u001b[0;34m\u001b[0m\u001b[0;34m\u001b[0m\u001b[0m\n\u001b[1;32m    439\u001b[0m   result = _run_command(\n\u001b[0;32m--> 440\u001b[0;31m       shell.var_expand(cmd, depth=2), clear_streamed_output=False)\n\u001b[0m\u001b[1;32m    441\u001b[0m   \u001b[0mshell\u001b[0m\u001b[0;34m.\u001b[0m\u001b[0muser_ns\u001b[0m\u001b[0;34m[\u001b[0m\u001b[0;34m'_exit_code'\u001b[0m\u001b[0;34m]\u001b[0m \u001b[0;34m=\u001b[0m \u001b[0mresult\u001b[0m\u001b[0;34m.\u001b[0m\u001b[0mreturncode\u001b[0m\u001b[0;34m\u001b[0m\u001b[0;34m\u001b[0m\u001b[0m\n\u001b[1;32m    442\u001b[0m   \u001b[0;32mif\u001b[0m \u001b[0;34m-\u001b[0m\u001b[0mresult\u001b[0m\u001b[0;34m.\u001b[0m\u001b[0mreturncode\u001b[0m \u001b[0;32min\u001b[0m \u001b[0m_INTERRUPTED_SIGNALS\u001b[0m\u001b[0;34m:\u001b[0m\u001b[0;34m\u001b[0m\u001b[0;34m\u001b[0m\u001b[0m\n",
            "\u001b[0;32m/usr/local/lib/python3.6/dist-packages/google/colab/_system_commands.py\u001b[0m in \u001b[0;36m_run_command\u001b[0;34m(cmd, clear_streamed_output)\u001b[0m\n\u001b[1;32m    193\u001b[0m       \u001b[0mos\u001b[0m\u001b[0;34m.\u001b[0m\u001b[0mclose\u001b[0m\u001b[0;34m(\u001b[0m\u001b[0mchild_pty\u001b[0m\u001b[0;34m)\u001b[0m\u001b[0;34m\u001b[0m\u001b[0;34m\u001b[0m\u001b[0m\n\u001b[1;32m    194\u001b[0m \u001b[0;34m\u001b[0m\u001b[0m\n\u001b[0;32m--> 195\u001b[0;31m       \u001b[0;32mreturn\u001b[0m \u001b[0m_monitor_process\u001b[0m\u001b[0;34m(\u001b[0m\u001b[0mparent_pty\u001b[0m\u001b[0;34m,\u001b[0m \u001b[0mepoll\u001b[0m\u001b[0;34m,\u001b[0m \u001b[0mp\u001b[0m\u001b[0;34m,\u001b[0m \u001b[0mcmd\u001b[0m\u001b[0;34m,\u001b[0m \u001b[0mupdate_stdin_widget\u001b[0m\u001b[0;34m)\u001b[0m\u001b[0;34m\u001b[0m\u001b[0;34m\u001b[0m\u001b[0m\n\u001b[0m\u001b[1;32m    196\u001b[0m   \u001b[0;32mfinally\u001b[0m\u001b[0;34m:\u001b[0m\u001b[0;34m\u001b[0m\u001b[0;34m\u001b[0m\u001b[0m\n\u001b[1;32m    197\u001b[0m     \u001b[0mepoll\u001b[0m\u001b[0;34m.\u001b[0m\u001b[0mclose\u001b[0m\u001b[0;34m(\u001b[0m\u001b[0;34m)\u001b[0m\u001b[0;34m\u001b[0m\u001b[0;34m\u001b[0m\u001b[0m\n",
            "\u001b[0;32m/usr/local/lib/python3.6/dist-packages/google/colab/_system_commands.py\u001b[0m in \u001b[0;36m_monitor_process\u001b[0;34m(parent_pty, epoll, p, cmd, update_stdin_widget)\u001b[0m\n\u001b[1;32m    220\u001b[0m   \u001b[0;32mwhile\u001b[0m \u001b[0;32mTrue\u001b[0m\u001b[0;34m:\u001b[0m\u001b[0;34m\u001b[0m\u001b[0;34m\u001b[0m\u001b[0m\n\u001b[1;32m    221\u001b[0m     \u001b[0;32mtry\u001b[0m\u001b[0;34m:\u001b[0m\u001b[0;34m\u001b[0m\u001b[0;34m\u001b[0m\u001b[0m\n\u001b[0;32m--> 222\u001b[0;31m       \u001b[0mresult\u001b[0m \u001b[0;34m=\u001b[0m \u001b[0m_poll_process\u001b[0m\u001b[0;34m(\u001b[0m\u001b[0mparent_pty\u001b[0m\u001b[0;34m,\u001b[0m \u001b[0mepoll\u001b[0m\u001b[0;34m,\u001b[0m \u001b[0mp\u001b[0m\u001b[0;34m,\u001b[0m \u001b[0mcmd\u001b[0m\u001b[0;34m,\u001b[0m \u001b[0mdecoder\u001b[0m\u001b[0;34m,\u001b[0m \u001b[0mstate\u001b[0m\u001b[0;34m)\u001b[0m\u001b[0;34m\u001b[0m\u001b[0;34m\u001b[0m\u001b[0m\n\u001b[0m\u001b[1;32m    223\u001b[0m       \u001b[0;32mif\u001b[0m \u001b[0mresult\u001b[0m \u001b[0;32mis\u001b[0m \u001b[0;32mnot\u001b[0m \u001b[0;32mNone\u001b[0m\u001b[0;34m:\u001b[0m\u001b[0;34m\u001b[0m\u001b[0;34m\u001b[0m\u001b[0m\n\u001b[1;32m    224\u001b[0m         \u001b[0;32mreturn\u001b[0m \u001b[0mresult\u001b[0m\u001b[0;34m\u001b[0m\u001b[0;34m\u001b[0m\u001b[0m\n",
            "\u001b[0;32m/usr/local/lib/python3.6/dist-packages/google/colab/_system_commands.py\u001b[0m in \u001b[0;36m_poll_process\u001b[0;34m(parent_pty, epoll, p, cmd, decoder, state)\u001b[0m\n\u001b[1;32m    273\u001b[0m       \u001b[0moutput_available\u001b[0m \u001b[0;34m=\u001b[0m \u001b[0;32mTrue\u001b[0m\u001b[0;34m\u001b[0m\u001b[0;34m\u001b[0m\u001b[0m\n\u001b[1;32m    274\u001b[0m       \u001b[0mraw_contents\u001b[0m \u001b[0;34m=\u001b[0m \u001b[0mos\u001b[0m\u001b[0;34m.\u001b[0m\u001b[0mread\u001b[0m\u001b[0;34m(\u001b[0m\u001b[0mparent_pty\u001b[0m\u001b[0;34m,\u001b[0m \u001b[0m_PTY_READ_MAX_BYTES_FOR_TEST\u001b[0m\u001b[0;34m)\u001b[0m\u001b[0;34m\u001b[0m\u001b[0;34m\u001b[0m\u001b[0m\n\u001b[0;32m--> 275\u001b[0;31m       \u001b[0mdecoded_contents\u001b[0m \u001b[0;34m=\u001b[0m \u001b[0mdecoder\u001b[0m\u001b[0;34m.\u001b[0m\u001b[0mdecode\u001b[0m\u001b[0;34m(\u001b[0m\u001b[0mraw_contents\u001b[0m\u001b[0;34m)\u001b[0m\u001b[0;34m\u001b[0m\u001b[0;34m\u001b[0m\u001b[0m\n\u001b[0m\u001b[1;32m    276\u001b[0m \u001b[0;34m\u001b[0m\u001b[0m\n\u001b[1;32m    277\u001b[0m       \u001b[0msys\u001b[0m\u001b[0;34m.\u001b[0m\u001b[0mstdout\u001b[0m\u001b[0;34m.\u001b[0m\u001b[0mwrite\u001b[0m\u001b[0;34m(\u001b[0m\u001b[0mdecoded_contents\u001b[0m\u001b[0;34m)\u001b[0m\u001b[0;34m\u001b[0m\u001b[0;34m\u001b[0m\u001b[0m\n",
            "\u001b[0;32m/usr/lib/python3.6/codecs.py\u001b[0m in \u001b[0;36mdecode\u001b[0;34m(self, input, final)\u001b[0m\n\u001b[1;32m    319\u001b[0m         \u001b[0;31m# decode input (taking the buffer into account)\u001b[0m\u001b[0;34m\u001b[0m\u001b[0;34m\u001b[0m\u001b[0;34m\u001b[0m\u001b[0m\n\u001b[1;32m    320\u001b[0m         \u001b[0mdata\u001b[0m \u001b[0;34m=\u001b[0m \u001b[0mself\u001b[0m\u001b[0;34m.\u001b[0m\u001b[0mbuffer\u001b[0m \u001b[0;34m+\u001b[0m \u001b[0minput\u001b[0m\u001b[0;34m\u001b[0m\u001b[0;34m\u001b[0m\u001b[0m\n\u001b[0;32m--> 321\u001b[0;31m         \u001b[0;34m(\u001b[0m\u001b[0mresult\u001b[0m\u001b[0;34m,\u001b[0m \u001b[0mconsumed\u001b[0m\u001b[0;34m)\u001b[0m \u001b[0;34m=\u001b[0m \u001b[0mself\u001b[0m\u001b[0;34m.\u001b[0m\u001b[0m_buffer_decode\u001b[0m\u001b[0;34m(\u001b[0m\u001b[0mdata\u001b[0m\u001b[0;34m,\u001b[0m \u001b[0mself\u001b[0m\u001b[0;34m.\u001b[0m\u001b[0merrors\u001b[0m\u001b[0;34m,\u001b[0m \u001b[0mfinal\u001b[0m\u001b[0;34m)\u001b[0m\u001b[0;34m\u001b[0m\u001b[0;34m\u001b[0m\u001b[0m\n\u001b[0m\u001b[1;32m    322\u001b[0m         \u001b[0;31m# keep undecoded input until the next call\u001b[0m\u001b[0;34m\u001b[0m\u001b[0;34m\u001b[0m\u001b[0;34m\u001b[0m\u001b[0m\n\u001b[1;32m    323\u001b[0m         \u001b[0mself\u001b[0m\u001b[0;34m.\u001b[0m\u001b[0mbuffer\u001b[0m \u001b[0;34m=\u001b[0m \u001b[0mdata\u001b[0m\u001b[0;34m[\u001b[0m\u001b[0mconsumed\u001b[0m\u001b[0;34m:\u001b[0m\u001b[0;34m]\u001b[0m\u001b[0;34m\u001b[0m\u001b[0;34m\u001b[0m\u001b[0m\n",
            "\u001b[0;31mUnicodeDecodeError\u001b[0m: 'utf-8' codec can't decode byte 0xe0 in position 109: invalid continuation byte"
          ]
        }
      ]
    }
  ]
}